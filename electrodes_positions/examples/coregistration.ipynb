{
 "cells": [
  {
   "cell_type": "code",
   "execution_count": 1,
   "id": "497d0471",
   "metadata": {},
   "outputs": [],
   "source": [
    "# load scalp example\n",
    "import trimesh\n",
    "import numpy as np\n",
    "import pyvista as pv\n",
    "from electrodes_positions.utils.mesh_utils import faces_to_pyvista\n",
    "\n",
    "# scalp surface is from subject 16, session 2 in\n",
    "# Telesford, Q.K., Gonzalez-Moreira, E., Xu, T. et al. An open-access dataset of naturalistic viewing using simultaneous EEG-fMRI. Sci Data 10, 554 (2023). https://doi.org/10.1038/s41597-023-02458-8\n",
    "\n",
    "mesh = trimesh.load('outer_skin.stl')\n",
    "vertices = np.array(mesh.vertices)\n",
    "faces = np.array(mesh.faces)"
   ]
  },
  {
   "cell_type": "markdown",
   "id": "0d278515",
   "metadata": {},
   "source": [
    "### Anatomical montage for comparison"
   ]
  },
  {
   "cell_type": "code",
   "execution_count": 2,
   "id": "5b8590c9",
   "metadata": {},
   "outputs": [
    {
     "data": {
      "application/vnd.jupyter.widget-view+json": {
       "model_id": "33bbb77b861248488c9fe1db45bb2c6f",
       "version_major": 2,
       "version_minor": 0
      },
      "text/plain": [
       "Widget(value='<iframe src=\"http://localhost:36151/index.html?ui=P_0x7fbc3952fd70_0&reconnect=auto\" class=\"pyvi…"
      ]
     },
     "metadata": {},
     "output_type": "display_data"
    }
   ],
   "source": [
    "from electrodes_positions.utils.point_picking import pick_fiducials\n",
    "\n",
    "# pick fiducials using a GUI\n",
    "picked_points = pick_fiducials(vertices, faces)"
   ]
  },
  {
   "cell_type": "code",
   "execution_count": 3,
   "id": "db0c42ba",
   "metadata": {},
   "outputs": [],
   "source": [
    "from electrodes_positions.utils.point_picking import project_fid_on_mesh\n",
    "\n",
    "# project the fiducials on the mesh vertices\n",
    "(RPA, LPA, NAS, IN), (RPA_idx, LPA_idx, NAS_idx, IN_idx) = project_fid_on_mesh(picked_points, vertices, return_positions = True, return_indices=True)"
   ]
  },
  {
   "cell_type": "code",
   "execution_count": 4,
   "id": "a72d0cf3",
   "metadata": {},
   "outputs": [],
   "source": [
    "# creates a standard montage according to the desired system\n",
    "# see available montages with print(electrodes_positions.montages.available_montages)\n",
    "from electrodes_positions.montages import create_standard_montage\n",
    "\n",
    "all_landmarks = create_standard_montage(vertices, faces, fiducials = (RPA_idx, LPA_idx, NAS_idx, IN_idx), system = '10-10', return_indices = False)"
   ]
  },
  {
   "cell_type": "markdown",
   "id": "4952efa0",
   "metadata": {},
   "source": [
    "# Basic three points coregistration\n",
    "Usually good with real positions measured on head, a transformation is computed to align the fiducial points. Downside is that it requires you to have both the real and the mesh position of the fiducials (which are not correct in this dataset)."
   ]
  },
  {
   "cell_type": "code",
   "execution_count": 32,
   "id": "bc02041c",
   "metadata": {},
   "outputs": [],
   "source": [
    "# real positions measured on patient's head\n",
    "with open('ch_pos.sfp', 'r') as f:\n",
    "    real_landmarks = f.readlines()\n",
    "real_landmarks = dict(map(lambda x: (x.strip().split('\\t')[0], np.array(x.strip().split('\\t')[1:], dtype = float)), real_landmarks))"
   ]
  },
  {
   "cell_type": "code",
   "execution_count": 33,
   "id": "2c7fd094",
   "metadata": {},
   "outputs": [],
   "source": [
    "from electrodes_positions.coregistration import transform_fiducials\n",
    "\n",
    "# aligns the positions with the head using only the fiducials\n",
    "new_real_landmarks = transform_fiducials(real_landmarks, (RPA, LPA, NAS, IN), scale_y = False, shear_y = False)"
   ]
  },
  {
   "cell_type": "code",
   "execution_count": 34,
   "id": "7e91f41b",
   "metadata": {},
   "outputs": [],
   "source": [
    "from electrodes_positions.coregistration import project_electrodes_on_mesh\n",
    "\n",
    "# projects the positions on the scalp\n",
    "projected_new_real_landmarks = project_electrodes_on_mesh(new_real_landmarks, vertices, faces)"
   ]
  },
  {
   "cell_type": "code",
   "execution_count": null,
   "id": "37499109",
   "metadata": {},
   "outputs": [],
   "source": [
    "mesh = pv.PolyData(vertices, faces_to_pyvista(faces))\n",
    "\n",
    "plotter = pv.Plotter()\n",
    "plotter.add_mesh(mesh, color='red')\n",
    "plotter.add_points(np.array(list(new_real_landmarks.values())), render_points_as_spheres = True, point_size = 5, color = 'yellow')\n",
    "plotter.add_points(np.array(list(projected_new_real_landmarks.values())), render_points_as_spheres = True, point_size = 10, color = 'blue')\n",
    "plotter.add_points(np.array(list(all_landmarks.values())), render_points_as_spheres = True, point_size = 5, color = 'green')\n",
    "plotter.add_point_labels([RPA, LPA, NAS, IN], ['RPA', 'LPA', 'NAS', 'IN'], render_points_as_spheres = True, point_size = 15, point_color = 'green')\n",
    "plotter.show()"
   ]
  },
  {
   "cell_type": "markdown",
   "id": "a9204176",
   "metadata": {},
   "source": [
    "# Automatic coregistration\n",
    "This uses an iterative closest point technique to coregister the positions to the head.\n",
    "\n",
    "It is good practice to start with a rough registration first (even hand made, if possible)."
   ]
  },
  {
   "cell_type": "code",
   "execution_count": null,
   "id": "02714878",
   "metadata": {},
   "outputs": [],
   "source": [
    "# real positions measured on patient's head\n",
    "with open('ch_pos.sfp', 'r') as f:\n",
    "    real_landmarks = f.readlines()\n",
    "real_landmarks = dict(map(lambda x: (x.strip().split('\\t')[0], np.array(x.strip().split('\\t')[1:], dtype = float)), real_landmarks))"
   ]
  },
  {
   "cell_type": "code",
   "execution_count": null,
   "id": "8de79072",
   "metadata": {},
   "outputs": [],
   "source": [
    "from electrodes_positions.coregistration import transform_fiducials\n",
    "\n",
    "# aligns the positions with the head using only the fiducials\n",
    "new_real_landmarks = transform_fiducials(real_landmarks, (RPA, LPA, NAS, IN), scale_y = False, shear_y = False)"
   ]
  },
  {
   "cell_type": "code",
   "execution_count": 40,
   "id": "b68a6c03",
   "metadata": {},
   "outputs": [],
   "source": [
    "from electrodes_positions.coregistration import coregister_to_mesh\n",
    "\n",
    "# coregisters the position with the scalp\n",
    "coregistered_new_real_landmarks = coregister_to_mesh(vertices, faces, new_real_landmarks, DoF = 7, projection = 'approximate', project_result = True)"
   ]
  },
  {
   "cell_type": "code",
   "execution_count": 41,
   "id": "d4aec41c",
   "metadata": {},
   "outputs": [
    {
     "data": {
      "application/vnd.jupyter.widget-view+json": {
       "model_id": "938ebf3eb2ce4170838b743c1708c13f",
       "version_major": 2,
       "version_minor": 0
      },
      "text/plain": [
       "Widget(value='<iframe src=\"http://localhost:41327/index.html?ui=P_0x7fb48473f8c0_6&reconnect=auto\" class=\"pyvi…"
      ]
     },
     "metadata": {},
     "output_type": "display_data"
    }
   ],
   "source": [
    "mesh = pv.PolyData(vertices, faces_to_pyvista(faces))\n",
    "\n",
    "plotter = pv.Plotter()\n",
    "plotter.add_mesh(mesh, color='red')\n",
    "plotter.add_points(np.array(list(coregistered_new_real_landmarks.values())), render_points_as_spheres = True, point_size = 10, color = 'blue')\n",
    "plotter.add_points(np.array(list(all_landmarks.values())), render_points_as_spheres = True, point_size = 5, color = 'green')\n",
    "plotter.add_point_labels([RPA, LPA, NAS, IN], ['RPA', 'LPA', 'NAS', 'IN'], render_points_as_spheres = True, point_size = 15, point_color = 'green')\n",
    "plotter.show()"
   ]
  },
  {
   "cell_type": "markdown",
   "id": "aad9ed39",
   "metadata": {},
   "source": [
    "# Affine automatic coregistration\n",
    "Useful if points belong to a different head, so scaling and shears are needed to align the positions to the head."
   ]
  },
  {
   "cell_type": "code",
   "execution_count": 42,
   "id": "7dfef2e3",
   "metadata": {},
   "outputs": [],
   "source": [
    "# positions computed on a generic standard head\n",
    "with open('standard_10-10.sfp', 'r') as f:\n",
    "    standard_landmarks = f.readlines()\n",
    "standard_landmarks = dict(map(lambda x: (x.strip().split('\\t')[0], np.array(x.strip().split('\\t')[1:], dtype = float)), standard_landmarks))"
   ]
  },
  {
   "cell_type": "code",
   "execution_count": 43,
   "id": "5b2d409e",
   "metadata": {},
   "outputs": [],
   "source": [
    "from electrodes_positions.coregistration import transform_fiducials\n",
    "\n",
    "# aligns the positions with the head using only the fiducials\n",
    "new_standard_landmarks = transform_fiducials(standard_landmarks, (RPA, LPA, NAS, IN), scale_y = False, shear_y = False)"
   ]
  },
  {
   "cell_type": "code",
   "execution_count": null,
   "id": "7b714156",
   "metadata": {},
   "outputs": [],
   "source": [
    "from electrodes_positions.coregistration import coregister_to_mesh\n",
    "\n",
    "# coregisters the position with the scalp\n",
    "coregistered_new_standard_landmarks = coregister_to_mesh(vertices, faces, new_standard_landmarks, DoF = 12, projection = 'approximate', project_result = True)"
   ]
  },
  {
   "cell_type": "code",
   "execution_count": 45,
   "id": "22dc9d71",
   "metadata": {},
   "outputs": [
    {
     "data": {
      "application/vnd.jupyter.widget-view+json": {
       "model_id": "57624fb385b44a5ba894e47b7b3fcf79",
       "version_major": 2,
       "version_minor": 0
      },
      "text/plain": [
       "Widget(value='<iframe src=\"http://localhost:41327/index.html?ui=P_0x7fb4bf2d6ed0_7&reconnect=auto\" class=\"pyvi…"
      ]
     },
     "metadata": {},
     "output_type": "display_data"
    }
   ],
   "source": [
    "mesh = pv.PolyData(vertices, faces_to_pyvista(faces))\n",
    "\n",
    "plotter = pv.Plotter()\n",
    "plotter.add_mesh(mesh, color='red')\n",
    "plotter.add_points(np.array(list(coregistered_new_standard_landmarks.values())), render_points_as_spheres = True, point_size = 10, color = 'blue')\n",
    "plotter.add_points(np.array(list(all_landmarks.values())), render_points_as_spheres = True, point_size = 5, color = 'green')\n",
    "plotter.add_point_labels([RPA, LPA, NAS, IN], ['RPA', 'LPA', 'NAS', 'IN'], render_points_as_spheres = True, point_size = 15, point_color = 'green')\n",
    "plotter.show()"
   ]
  },
  {
   "cell_type": "markdown",
   "id": "297ef435",
   "metadata": {},
   "source": [
    "# 6, 7, 9, 12 degrees of freedom\n",
    "You can limit the operations allowed on the positions for the coregistration:\n",
    "* DoF = 6:  rigid transformations\n",
    "* DoF = 7:  rigid transformations with a global scaling factor\n",
    "* DoF = 9:  rotations, traslations, and scalings\n",
    "* DoF = 12:  affine transformations (i.e. rotations, traslations, scalings, and shears)"
   ]
  },
  {
   "cell_type": "code",
   "execution_count": 10,
   "id": "b0aff2f5",
   "metadata": {},
   "outputs": [],
   "source": [
    "# positions computed on a generic standard head\n",
    "with open('standard_10-10.sfp', 'r') as f:\n",
    "    standard_landmarks = f.readlines()\n",
    "standard_landmarks = dict(map(lambda x: (x.strip().split('\\t')[0], np.array(x.strip().split('\\t')[1:], dtype = float)), standard_landmarks))"
   ]
  },
  {
   "cell_type": "code",
   "execution_count": 11,
   "id": "12074696",
   "metadata": {},
   "outputs": [],
   "source": [
    "from electrodes_positions.coregistration import transform_fiducials\n",
    "\n",
    "# aligns the positions with the head using only the fiducials\n",
    "new_standard_landmarks = transform_fiducials(standard_landmarks, (RPA, LPA, NAS, IN), scale_y = False, shear_y = False)"
   ]
  },
  {
   "cell_type": "code",
   "execution_count": 12,
   "id": "c7ea9e00",
   "metadata": {},
   "outputs": [],
   "source": [
    "from electrodes_positions.coregistration import coregister_to_mesh\n",
    "\n",
    "# coregisters the position with the scalp\n",
    "coregistered_6_new_standard_landmarks = coregister_to_mesh(vertices, faces, new_standard_landmarks, DoF = 6, projection = 'approximate', project_result = True)\n",
    "coregistered_7_new_standard_landmarks = coregister_to_mesh(vertices, faces, new_standard_landmarks, DoF = 7, projection = 'approximate', project_result = True)\n",
    "coregistered_9_new_standard_landmarks = coregister_to_mesh(vertices, faces, new_standard_landmarks, DoF = 9, projection = 'approximate', project_result = True)\n",
    "coregistered_12_new_standard_landmarks = coregister_to_mesh(vertices, faces, new_standard_landmarks, DoF = 12, projection = 'approximate', project_result = True)"
   ]
  },
  {
   "cell_type": "code",
   "execution_count": 13,
   "id": "a05e987a",
   "metadata": {},
   "outputs": [
    {
     "data": {
      "application/vnd.jupyter.widget-view+json": {
       "model_id": "507954bfe2fa423d9219f534ec7b137f",
       "version_major": 2,
       "version_minor": 0
      },
      "text/plain": [
       "Widget(value='<iframe src=\"http://localhost:36151/index.html?ui=P_0x7fbc2b435670_1&reconnect=auto\" class=\"pyvi…"
      ]
     },
     "metadata": {},
     "output_type": "display_data"
    }
   ],
   "source": [
    "mesh = pv.PolyData(vertices, faces_to_pyvista(faces))\n",
    "\n",
    "plotter = pv.Plotter()\n",
    "plotter.add_mesh(mesh, color='red')\n",
    "plotter.add_points(np.array(list(coregistered_6_new_standard_landmarks.values())), render_points_as_spheres = True, point_size = 10, color = 'yellow')\n",
    "plotter.add_points(np.array(list(coregistered_7_new_standard_landmarks.values())), render_points_as_spheres = True, point_size = 10, color = 'white')\n",
    "plotter.add_points(np.array(list(coregistered_9_new_standard_landmarks.values())), render_points_as_spheres = True, point_size = 10, color = 'black')\n",
    "plotter.add_points(np.array(list(coregistered_12_new_standard_landmarks.values())), render_points_as_spheres = True, point_size = 10, color = 'blue')\n",
    "plotter.add_points(np.array(list(all_landmarks.values())), render_points_as_spheres = True, point_size = 5, color = 'green')\n",
    "plotter.add_point_labels([RPA, LPA, NAS, IN], ['RPA', 'LPA', 'NAS', 'IN'], render_points_as_spheres = True, point_size = 15, point_color = 'green')\n",
    "plotter.show()"
   ]
  },
  {
   "cell_type": "markdown",
   "id": "67fa2426",
   "metadata": {},
   "source": [
    "# \"exact\" coregistration\n",
    "This is an improved version of the algorithm which uses exact projection on the mesh faces to run the ICP. It's much slower, but can lead to better results.\n",
    "\n",
    "The two methods are basically the same if the mesh is fine enough. In this specific case they produce the same solution."
   ]
  },
  {
   "cell_type": "code",
   "execution_count": 14,
   "id": "3ca46fa5",
   "metadata": {},
   "outputs": [],
   "source": [
    "# real positions measured on patient's head\n",
    "with open('ch_pos.sfp', 'r') as f:\n",
    "    real_landmarks = f.readlines()\n",
    "real_landmarks = dict(map(lambda x: (x.strip().split('\\t')[0], np.array(x.strip().split('\\t')[1:], dtype = float)), real_landmarks))"
   ]
  },
  {
   "cell_type": "code",
   "execution_count": 15,
   "id": "42f9854e",
   "metadata": {},
   "outputs": [],
   "source": [
    "from electrodes_positions.coregistration import transform_fiducials\n",
    "\n",
    "# aligns the positions with the head using only the fiducials\n",
    "new_real_landmarks = transform_fiducials(real_landmarks, (RPA, LPA, NAS, IN), scale_y = False, shear_y = False)"
   ]
  },
  {
   "cell_type": "code",
   "execution_count": null,
   "id": "a27da3be",
   "metadata": {},
   "outputs": [],
   "source": [
    "from electrodes_positions.coregistration import coregister_to_mesh\n",
    "\n",
    "# coregisters the position with the scalp\n",
    "exact_coregistered_new_real_landmarks = coregister_to_mesh(vertices, faces, new_real_landmarks, DoF = 7, projection = 'exact', project_result = True)"
   ]
  },
  {
   "cell_type": "code",
   "execution_count": null,
   "id": "49a435dd",
   "metadata": {},
   "outputs": [],
   "source": [
    "from electrodes_positions.coregistration import coregister_to_mesh\n",
    "\n",
    "# coregisters the position with the scalp\n",
    "approx_coregistered_new_real_landmarks = coregister_to_mesh(vertices, faces, new_real_landmarks, DoF = 7, projection = 'exact', project_result = True)"
   ]
  },
  {
   "cell_type": "code",
   "execution_count": 9,
   "id": "de498615",
   "metadata": {},
   "outputs": [
    {
     "data": {
      "application/vnd.jupyter.widget-view+json": {
       "model_id": "8c77723cac0942639676503933260460",
       "version_major": 2,
       "version_minor": 0
      },
      "text/plain": [
       "Widget(value='<iframe src=\"http://localhost:36151/index.html?ui=P_0x7fbc39785e80_0&reconnect=auto\" class=\"pyvi…"
      ]
     },
     "metadata": {},
     "output_type": "display_data"
    }
   ],
   "source": [
    "mesh = pv.PolyData(vertices, faces_to_pyvista(faces))\n",
    "\n",
    "plotter = pv.Plotter()\n",
    "plotter.add_mesh(mesh, color='red')\n",
    "plotter.add_points(np.array(list(exact_coregistered_new_real_landmarks.values())), render_points_as_spheres = True, point_size = 10, color = 'blue')\n",
    "plotter.add_points(np.array(list(approx_coregistered_new_real_landmarks.values())), render_points_as_spheres = True, point_size = 10, color = 'yellow')\n",
    "plotter.add_points(np.array(list(all_landmarks.values())), render_points_as_spheres = True, point_size = 5, color = 'green')\n",
    "plotter.add_point_labels([RPA, LPA, NAS, IN], ['RPA', 'LPA', 'NAS', 'IN'], render_points_as_spheres = True, point_size = 15, point_color = 'green')\n",
    "plotter.show()"
   ]
  }
 ],
 "metadata": {
  "kernelspec": {
   "display_name": "mne",
   "language": "python",
   "name": "python3"
  },
  "language_info": {
   "codemirror_mode": {
    "name": "ipython",
    "version": 3
   },
   "file_extension": ".py",
   "mimetype": "text/x-python",
   "name": "python",
   "nbconvert_exporter": "python",
   "pygments_lexer": "ipython3",
   "version": "3.12.8"
  }
 },
 "nbformat": 4,
 "nbformat_minor": 5
}
