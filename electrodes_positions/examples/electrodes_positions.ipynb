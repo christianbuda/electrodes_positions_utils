{
 "cells": [
  {
   "cell_type": "code",
   "execution_count": 2,
   "metadata": {},
   "outputs": [],
   "source": [
    "# load scalp example\n",
    "import trimesh\n",
    "import numpy as np\n",
    "import pyvista as pv\n",
    "from electrodes_positions.utils.mesh_utils import faces_to_pyvista\n",
    "\n",
    "# scalp surface is from subject 16, session 2 in\n",
    "# Telesford, Q.K., Gonzalez-Moreira, E., Xu, T. et al. An open-access dataset of naturalistic viewing using simultaneous EEG-fMRI. Sci Data 10, 554 (2023). https://doi.org/10.1038/s41597-023-02458-8\n",
    "\n",
    "mesh = trimesh.load('outer_skin.stl')\n",
    "vertices = np.array(mesh.vertices)\n",
    "faces = np.array(mesh.faces)"
   ]
  },
  {
   "cell_type": "markdown",
   "metadata": {},
   "source": [
    "# Picking points utils\n",
    "## pick fiducials\n",
    "With this utility you can choose the four fiducial landmarks on the subject's head"
   ]
  },
  {
   "cell_type": "code",
   "execution_count": 2,
   "metadata": {},
   "outputs": [
    {
     "data": {
      "application/vnd.jupyter.widget-view+json": {
       "model_id": "4dc4bd7a666c4feb83d121ac968db6b2",
       "version_major": 2,
       "version_minor": 0
      },
      "text/plain": [
       "Widget(value='<iframe src=\"http://localhost:39507/index.html?ui=P_0x7fce483f78f0_0&reconnect=auto\" class=\"pyvi…"
      ]
     },
     "metadata": {},
     "output_type": "display_data"
    }
   ],
   "source": [
    "from electrodes_positions.utils.point_picking import pick_fiducials\n",
    "\n",
    "# pick fiducials using a GUI\n",
    "picked_points = pick_fiducials(vertices, faces)"
   ]
  },
  {
   "cell_type": "code",
   "execution_count": 3,
   "metadata": {},
   "outputs": [],
   "source": [
    "from electrodes_positions.utils.point_picking import project_fid_on_mesh\n",
    "\n",
    "# project the fiducials on the mesh vertices\n",
    "(RPA, LPA, NAS, IN), (RPA_idx, LPA_idx, NAS_idx, IN_idx) = project_fid_on_mesh(picked_points, vertices, return_positions = True, return_indices=True)"
   ]
  },
  {
   "cell_type": "markdown",
   "metadata": {},
   "source": [
    "## selects the three regions on which electrodes should not be placed\n",
    "with this utils you can select closed paths on the head from which to remove missplaced electrodes (i.e. the ears and the eyes)"
   ]
  },
  {
   "cell_type": "code",
   "execution_count": 4,
   "metadata": {},
   "outputs": [],
   "source": [
    "from electrodes_positions.utils.point_picking import pick_closed_path, select_feasible_positions"
   ]
  },
  {
   "cell_type": "code",
   "execution_count": 5,
   "metadata": {},
   "outputs": [
    {
     "data": {
      "application/vnd.jupyter.widget-view+json": {
       "model_id": "de516915504d4e41a5f255457cf7910a",
       "version_major": 2,
       "version_minor": 0
      },
      "text/plain": [
       "Widget(value='<iframe src=\"http://localhost:35481/index.html?ui=P_0x7fce6f26b170_0&reconnect=auto\" class=\"pyvi…"
      ]
     },
     "metadata": {},
     "output_type": "display_data"
    }
   ],
   "source": [
    "picked_points, paths = pick_closed_path(vertices, faces)"
   ]
  },
  {
   "cell_type": "code",
   "execution_count": 6,
   "metadata": {},
   "outputs": [
    {
     "data": {
      "application/vnd.jupyter.widget-view+json": {
       "model_id": "cf083ad76436418aab58de108e4cf65e",
       "version_major": 2,
       "version_minor": 0
      },
      "text/plain": [
       "Widget(value='<iframe src=\"http://localhost:35481/index.html?ui=P_0x7fce6f123ec0_0&reconnect=auto\" class=\"pyvi…"
      ]
     },
     "metadata": {},
     "output_type": "display_data"
    }
   ],
   "source": [
    "right_ear = picked_points\n",
    "picked_points, paths = pick_closed_path(vertices, faces)"
   ]
  },
  {
   "cell_type": "code",
   "execution_count": 7,
   "metadata": {},
   "outputs": [
    {
     "data": {
      "application/vnd.jupyter.widget-view+json": {
       "model_id": "70acfc1d0c6343faae57ddcac3496766",
       "version_major": 2,
       "version_minor": 0
      },
      "text/plain": [
       "Widget(value='<iframe src=\"http://localhost:35481/index.html?ui=P_0x7fce7ddd2480_0&reconnect=auto\" class=\"pyvi…"
      ]
     },
     "metadata": {},
     "output_type": "display_data"
    }
   ],
   "source": [
    "left_ear = picked_points\n",
    "picked_points, paths = pick_closed_path(vertices, faces)"
   ]
  },
  {
   "cell_type": "code",
   "execution_count": 8,
   "metadata": {},
   "outputs": [],
   "source": [
    "eyes = picked_points"
   ]
  },
  {
   "cell_type": "code",
   "execution_count": 9,
   "metadata": {},
   "outputs": [],
   "source": [
    "right_ear = vertices[right_ear]\n",
    "left_ear = vertices[left_ear]\n",
    "eyes = vertices[eyes]"
   ]
  },
  {
   "cell_type": "markdown",
   "metadata": {},
   "source": [
    "# Montage builders"
   ]
  },
  {
   "cell_type": "markdown",
   "metadata": {},
   "source": [
    "## Standard Montages"
   ]
  },
  {
   "cell_type": "markdown",
   "metadata": {},
   "source": [
    "### 10-10"
   ]
  },
  {
   "cell_type": "code",
   "execution_count": 5,
   "metadata": {},
   "outputs": [],
   "source": [
    "# creates a standard montage according to the desired system\n",
    "# see available montages with print(electrodes_positions.montages.available_montages)\n",
    "from electrodes_positions.montages import create_standard_montage\n",
    "\n",
    "newverts, newfac, all_landmarks = create_standard_montage(vertices, faces, fiducials = (RPA_idx, LPA_idx, NAS_idx, IN_idx), system = '10-10', return_indices = True)"
   ]
  },
  {
   "cell_type": "code",
   "execution_count": 11,
   "metadata": {},
   "outputs": [
    {
     "name": "stderr",
     "output_type": "stream",
     "text": [
      "100%|██████████| 87/87 [00:00<00:00, 423.10it/s]\n"
     ]
    }
   ],
   "source": [
    "selected_landmarks = select_feasible_positions(newverts, newfac, outlines = [right_ear, left_ear, eyes], landmarks = all_landmarks, positions = None, project_outlines = True)"
   ]
  },
  {
   "cell_type": "code",
   "execution_count": null,
   "metadata": {},
   "outputs": [
    {
     "data": {
      "application/vnd.jupyter.widget-view+json": {
       "model_id": "0dbbe9ae44d545899845e8fddfa9071f",
       "version_major": 2,
       "version_minor": 0
      },
      "text/plain": [
       "Widget(value='<iframe src=\"http://localhost:41673/index.html?ui=P_0x7f3c8b533bf0_1&reconnect=auto\" class=\"pyvi…"
      ]
     },
     "metadata": {},
     "output_type": "display_data"
    }
   ],
   "source": [
    "mesh = pv.PolyData(newverts, faces_to_pyvista(newfac))\n",
    "\n",
    "plotter = pv.Plotter()\n",
    "plotter.add_mesh(mesh, color='red')\n",
    "plotter.add_point_labels(newverts[np.array(list(selected_landmarks.values()))], list(selected_landmarks.keys()), render_points_as_spheres = True, point_size = 10, point_color = 'yellow')\n",
    "plotter.add_point_labels([RPA, LPA, NAS, IN], ['RPA', 'LPA', 'NAS', 'IN'], render_points_as_spheres = True, point_size = 20, point_color = 'green')\n",
    "plotter.show()"
   ]
  },
  {
   "cell_type": "markdown",
   "metadata": {},
   "source": [
    "### 10-5"
   ]
  },
  {
   "cell_type": "code",
   "execution_count": null,
   "metadata": {},
   "outputs": [],
   "source": [
    "# creates a standard montage according to the desired system\n",
    "# see available montages with print(electrodes_positions.montages.available_montages)\n",
    "from electrodes_positions.montages import create_standard_montage\n",
    "\n",
    "newverts, newfac, all_landmarks = create_standard_montage(vertices, faces, fiducials = (RPA_idx, LPA_idx, NAS_idx, IN_idx), system = '10-5-full', return_indices = True)"
   ]
  },
  {
   "cell_type": "code",
   "execution_count": 27,
   "metadata": {},
   "outputs": [
    {
     "name": "stderr",
     "output_type": "stream",
     "text": [
      "100%|██████████| 345/345 [00:01<00:00, 223.55it/s]\n"
     ]
    }
   ],
   "source": [
    "selected_landmarks = select_feasible_positions(newverts, newfac, outlines = [right_ear, left_ear, eyes], landmarks = all_landmarks, positions = None, project_outlines = True)"
   ]
  },
  {
   "cell_type": "code",
   "execution_count": null,
   "metadata": {},
   "outputs": [
    {
     "data": {
      "application/vnd.jupyter.widget-view+json": {
       "model_id": "5639b6b2200a49f7bfaf4b6062ce6d39",
       "version_major": 2,
       "version_minor": 0
      },
      "text/plain": [
       "Widget(value='<iframe src=\"http://localhost:41673/index.html?ui=P_0x7f3c686d67e0_5&reconnect=auto\" class=\"pyvi…"
      ]
     },
     "metadata": {},
     "output_type": "display_data"
    }
   ],
   "source": [
    "mesh = pv.PolyData(newverts, faces_to_pyvista(newfac))\n",
    "\n",
    "plotter = pv.Plotter()\n",
    "plotter.add_mesh(mesh, color='red')\n",
    "plotter.add_point_labels(newverts[np.array(list(selected_landmarks.values()))], list(selected_landmarks.keys()), render_points_as_spheres = True, point_size = 10, point_color = 'yellow')\n",
    "plotter.add_point_labels([RPA, LPA, NAS, IN], ['RPA', 'LPA', 'NAS', 'IN'], render_points_as_spheres = True, point_size = 20, point_color = 'green')\n",
    "plotter.show()"
   ]
  },
  {
   "cell_type": "markdown",
   "metadata": {},
   "source": [
    "## Custom montage\n",
    "A custom montage is defined as a further subdivision of the 10-10 system, in particular:\n",
    "* subdivisions = 1 coincides with the 10-10 system\n",
    "* subdivisions = 2 coincides with the 10-5 system\n",
    "* subdivisions = 3 would be the 10-3.3 system\n",
    "* subdivisions = 4 would be the 10-2.5 system"
   ]
  },
  {
   "cell_type": "markdown",
   "metadata": {},
   "source": [
    "### 4 subdivisions, 10-2.5 system"
   ]
  },
  {
   "cell_type": "code",
   "execution_count": null,
   "metadata": {},
   "outputs": [],
   "source": [
    "# creates a custom montage according to the desired subdivisions\n",
    "from electrodes_positions.montages import create_custom_montage\n",
    "\n",
    "newverts, newfac, all_pos, all_landmarks = create_custom_montage(vertices, faces, fiducials = (RPA_idx, LPA_idx, NAS_idx, IN_idx), subdivisions = 4, return_indices = True)"
   ]
  },
  {
   "cell_type": "code",
   "execution_count": 17,
   "metadata": {},
   "outputs": [
    {
     "name": "stderr",
     "output_type": "stream",
     "text": [
      "100%|██████████| 1265/1265 [00:03<00:00, 416.69it/s]\n"
     ]
    }
   ],
   "source": [
    "selected_pos = select_feasible_positions(newverts, newfac, outlines = [right_ear, left_ear, eyes], landmarks = all_landmarks, positions = all_pos, project_outlines = True)"
   ]
  },
  {
   "cell_type": "code",
   "execution_count": null,
   "metadata": {},
   "outputs": [
    {
     "data": {
      "application/vnd.jupyter.widget-view+json": {
       "model_id": "27d3a1cfee724431a2981bbab066b63e",
       "version_major": 2,
       "version_minor": 0
      },
      "text/plain": [
       "Widget(value='<iframe src=\"http://localhost:41673/index.html?ui=P_0x7f3c68465190_7&reconnect=auto\" class=\"pyvi…"
      ]
     },
     "metadata": {},
     "output_type": "display_data"
    }
   ],
   "source": [
    "mesh = pv.PolyData(newverts, faces_to_pyvista(newfac))\n",
    "\n",
    "plotter = pv.Plotter()\n",
    "plotter.add_mesh(mesh, color='red')\n",
    "plotter.add_points(newverts[selected_pos], render_points_as_spheres = True, point_size = 10, color = 'yellow')\n",
    "plotter.add_point_labels([RPA, LPA, NAS, IN], ['RPA', 'LPA', 'NAS', 'IN'], render_points_as_spheres = True, point_size = 20, point_color = 'green')\n",
    "plotter.show()"
   ]
  },
  {
   "cell_type": "markdown",
   "metadata": {},
   "source": [
    "### 8 subdivisions, 10-1.25 system"
   ]
  },
  {
   "cell_type": "code",
   "execution_count": 19,
   "metadata": {},
   "outputs": [],
   "source": [
    "# creates a custom montage according to the desired subdivisions\n",
    "from electrodes_positions.montages import create_custom_montage\n",
    "\n",
    "newverts, newfac, all_pos, all_landmarks = create_custom_montage(vertices, faces, fiducials = (RPA_idx, LPA_idx, NAS_idx, IN_idx), subdivisions = 8, return_indices = True)"
   ]
  },
  {
   "cell_type": "code",
   "execution_count": 20,
   "metadata": {},
   "outputs": [
    {
     "name": "stderr",
     "output_type": "stream",
     "text": [
      "100%|██████████| 4961/4961 [00:16<00:00, 304.95it/s]\n"
     ]
    }
   ],
   "source": [
    "selected_pos = select_feasible_positions(newverts, newfac, outlines = [right_ear, left_ear, eyes], landmarks = all_landmarks, positions = all_pos, project_outlines = True)"
   ]
  },
  {
   "cell_type": "code",
   "execution_count": 21,
   "metadata": {},
   "outputs": [
    {
     "data": {
      "application/vnd.jupyter.widget-view+json": {
       "model_id": "410931902ee7432a9f97900b4ed94ca7",
       "version_major": 2,
       "version_minor": 0
      },
      "text/plain": [
       "Widget(value='<iframe src=\"http://localhost:35481/index.html?ui=P_0x7fce645312b0_3&reconnect=auto\" class=\"pyvi…"
      ]
     },
     "metadata": {},
     "output_type": "display_data"
    }
   ],
   "source": [
    "mesh = pv.PolyData(newverts, faces_to_pyvista(newfac))\n",
    "\n",
    "plotter = pv.Plotter()\n",
    "plotter.add_mesh(mesh, color='red')\n",
    "plotter.add_points(newverts[selected_pos], render_points_as_spheres = True, point_size = 10, color = 'yellow')\n",
    "plotter.add_point_labels([RPA, LPA, NAS, IN], ['RPA', 'LPA', 'NAS', 'IN'], render_points_as_spheres = True, point_size = 20, point_color = 'green')\n",
    "plotter.show()"
   ]
  },
  {
   "cell_type": "markdown",
   "metadata": {},
   "source": [
    "### 16 subdivisions, 10-0.625 system"
   ]
  },
  {
   "cell_type": "code",
   "execution_count": 25,
   "metadata": {},
   "outputs": [],
   "source": [
    "# creates a custom montage according to the desired subdivisions\n",
    "from electrodes_positions.montages import create_custom_montage\n",
    "\n",
    "newverts, newfac, all_pos, all_landmarks = create_custom_montage(vertices, faces, fiducials = (RPA_idx, LPA_idx, NAS_idx, IN_idx), subdivisions = 16, return_indices = True)"
   ]
  },
  {
   "cell_type": "code",
   "execution_count": 29,
   "metadata": {},
   "outputs": [
    {
     "name": "stderr",
     "output_type": "stream",
     "text": [
      "100%|██████████| 19649/19649 [02:38<00:00, 123.79it/s]\n"
     ]
    }
   ],
   "source": [
    "selected_pos = select_feasible_positions(newverts, newfac, outlines = [right_ear, left_ear, eyes], landmarks = all_landmarks, positions = all_pos, project_outlines = True)"
   ]
  },
  {
   "cell_type": "code",
   "execution_count": null,
   "metadata": {},
   "outputs": [],
   "source": [
    "mesh = pv.PolyData(newverts, faces_to_pyvista(newfac))\n",
    "\n",
    "plotter = pv.Plotter()\n",
    "plotter.add_mesh(mesh, color='red')\n",
    "plotter.add_points(newverts[selected_pos], render_points_as_spheres = True, point_size = 10, color = 'yellow')\n",
    "plotter.add_point_labels([RPA, LPA, NAS, IN], ['RPA', 'LPA', 'NAS', 'IN'], render_points_as_spheres = True, point_size = 20, point_color = 'green')\n",
    "plotter.show()"
   ]
  },
  {
   "cell_type": "markdown",
   "metadata": {},
   "source": [
    "## Random montage\n",
    "A random montage is a collection of electrodes positions sampled randomly above the last line of electrodes as defined in the 10-10 system. There are two possible sampling strategies:\n",
    "* Poisson sampling: where positions are sampled to be not to close to each other\n",
    "* Uniform sampling: where positions are sampled uniformly across the entire surface"
   ]
  },
  {
   "cell_type": "markdown",
   "metadata": {},
   "source": [
    "### Poisson sampling: 100 electrodes\n",
    "Poisson sampling is performed by specifying the minimum distance between all the electrodes. When a number of electrodes is chosen, an estimate is made on the minimum distance required to cover the head with the specified number of positions."
   ]
  },
  {
   "cell_type": "code",
   "execution_count": null,
   "metadata": {},
   "outputs": [],
   "source": []
  },
  {
   "cell_type": "code",
   "execution_count": null,
   "metadata": {},
   "outputs": [],
   "source": []
  },
  {
   "cell_type": "code",
   "execution_count": null,
   "metadata": {},
   "outputs": [
    {
     "name": "stdout",
     "output_type": "stream",
     "text": [
      "Performing Sampling on the mesh\n"
     ]
    },
    {
     "name": "stderr",
     "output_type": "stream",
     "text": [
      "Iteration 1111: : 1110it [00:51, 21.55it/s]                           \n"
     ]
    },
    {
     "ename": "",
     "evalue": "",
     "output_type": "error",
     "traceback": [
      "\u001b[1;31mThe Kernel crashed while executing code in the current cell or a previous cell. \n",
      "\u001b[1;31mPlease review the code in the cell(s) to identify a possible cause of the failure. \n",
      "\u001b[1;31mClick <a href='https://aka.ms/vscodeJupyterKernelCrash'>here</a> for more info. \n",
      "\u001b[1;31mView Jupyter <a href='command:jupyter.viewOutput'>log</a> for further details."
     ]
    }
   ],
   "source": [
    "# creates a random montage according to the desired number of electrodes or minimal distance\n",
    "from electrodes_positions.montages import create_random_montage\n",
    "\n",
    "newverts, newfac, all_pos, all_landmarks = create_random_montage(vertices, faces, fiducials = (RPA_idx, LPA_idx, NAS_idx, IN_idx), num_electrodes = 100, return_indices = True)"
   ]
  },
  {
   "cell_type": "code",
   "execution_count": null,
   "metadata": {},
   "outputs": [
    {
     "name": "stderr",
     "output_type": "stream",
     "text": [
      "100%|██████████| 19649/19649 [02:38<00:00, 123.79it/s]\n"
     ]
    }
   ],
   "source": [
    "selected_pos = select_feasible_positions(newverts, newfac, outlines = [right_ear, left_ear, eyes], landmarks = all_landmarks, positions = all_pos, project_outlines = True)"
   ]
  },
  {
   "cell_type": "code",
   "execution_count": null,
   "metadata": {},
   "outputs": [],
   "source": [
    "mesh = pv.PolyData(newverts, faces_to_pyvista(newfac))\n",
    "\n",
    "plotter = pv.Plotter()\n",
    "plotter.add_mesh(mesh, color='red')\n",
    "plotter.add_points(newverts[selected_pos], render_points_as_spheres = True, point_size = 10, color = 'yellow')\n",
    "plotter.add_point_labels([RPA, LPA, NAS, IN], ['RPA', 'LPA', 'NAS', 'IN'], render_points_as_spheres = True, point_size = 20, point_color = 'green')\n",
    "plotter.show()"
   ]
  },
  {
   "cell_type": "markdown",
   "metadata": {},
   "source": [
    "### Uniform sampling: 100 electrodes\n",
    "Uniform sampling is uniform wrt mesh area"
   ]
  },
  {
   "cell_type": "code",
   "execution_count": null,
   "metadata": {},
   "outputs": [
    {
     "name": "stdout",
     "output_type": "stream",
     "text": [
      "Performing Sampling on the mesh\n",
      "Projecting sampled points on original mesh\n"
     ]
    }
   ],
   "source": [
    "# creates a random montage according to the desired number of electrodes or minimal distance\n",
    "from electrodes_positions.montages import create_random_montage\n",
    "\n",
    "newverts, newfac, all_pos, all_landmarks = create_random_montage(vertices, faces, fiducials = (RPA_idx, LPA_idx, NAS_idx, IN_idx), sampling = 'uniform', num_electrodes = 100, return_indices = True)"
   ]
  },
  {
   "cell_type": "code",
   "execution_count": null,
   "metadata": {},
   "outputs": [
    {
     "name": "stderr",
     "output_type": "stream",
     "text": [
      "100%|██████████| 19649/19649 [02:38<00:00, 123.79it/s]\n"
     ]
    }
   ],
   "source": [
    "selected_pos = select_feasible_positions(newverts, newfac, outlines = [right_ear, left_ear, eyes], landmarks = all_landmarks, positions = all_pos, project_outlines = True)"
   ]
  },
  {
   "cell_type": "code",
   "execution_count": null,
   "metadata": {},
   "outputs": [
    {
     "data": {
      "application/vnd.jupyter.widget-view+json": {
       "model_id": "b42aba4678574c69bb50f267f846293c",
       "version_major": 2,
       "version_minor": 0
      },
      "text/plain": [
       "Widget(value='<iframe src=\"http://localhost:39507/index.html?ui=P_0x7fce20605730_2&reconnect=auto\" class=\"pyvi…"
      ]
     },
     "metadata": {},
     "output_type": "display_data"
    }
   ],
   "source": [
    "mesh = pv.PolyData(newverts, faces_to_pyvista(newfac))\n",
    "\n",
    "plotter = pv.Plotter()\n",
    "plotter.add_mesh(mesh, color='red')\n",
    "plotter.add_points(newverts[selected_pos], render_points_as_spheres = True, point_size = 10, color = 'yellow')\n",
    "plotter.add_point_labels([RPA, LPA, NAS, IN], ['RPA', 'LPA', 'NAS', 'IN'], render_points_as_spheres = True, point_size = 20, point_color = 'green')\n",
    "plotter.show()"
   ]
  }
 ],
 "metadata": {
  "kernelspec": {
   "display_name": "mne",
   "language": "python",
   "name": "python3"
  },
  "language_info": {
   "codemirror_mode": {
    "name": "ipython",
    "version": 3
   },
   "file_extension": ".py",
   "mimetype": "text/x-python",
   "name": "python",
   "nbconvert_exporter": "python",
   "pygments_lexer": "ipython3",
   "version": "3.12.8"
  }
 },
 "nbformat": 4,
 "nbformat_minor": 2
}
