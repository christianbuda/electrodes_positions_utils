{
 "cells": [
  {
   "cell_type": "code",
   "execution_count": 1,
   "metadata": {},
   "outputs": [],
   "source": [
    "# load scalp example\n",
    "import trimesh\n",
    "import numpy as np\n",
    "import pyvista as pv\n",
    "from electrodes_positions.utils.mesh_utils import faces_to_pyvista\n",
    "\n",
    "# scalp surface is from subject 16, session 2 in\n",
    "# Telesford, Q.K., Gonzalez-Moreira, E., Xu, T. et al. An open-access dataset of naturalistic viewing using simultaneous EEG-fMRI. Sci Data 10, 554 (2023). https://doi.org/10.1038/s41597-023-02458-8\n",
    "\n",
    "mesh = trimesh.load('outer_skin.stl')\n",
    "vertices = np.array(mesh.vertices)\n",
    "faces = np.array(mesh.faces)"
   ]
  },
  {
   "cell_type": "markdown",
   "metadata": {},
   "source": [
    "# Picking points utils\n",
    "## pick fiducials\n",
    "With this utility you can choose the four fiducial landmarks on the subject's head"
   ]
  },
  {
   "cell_type": "code",
   "execution_count": 2,
   "metadata": {},
   "outputs": [
    {
     "data": {
      "application/vnd.jupyter.widget-view+json": {
       "model_id": "c724805e0f434d4080e78bbfbc868f05",
       "version_major": 2,
       "version_minor": 0
      },
      "text/plain": [
       "Widget(value='<iframe src=\"http://localhost:39525/index.html?ui=P_0x7f4df0973c80_0&reconnect=auto\" class=\"pyvi…"
      ]
     },
     "metadata": {},
     "output_type": "display_data"
    }
   ],
   "source": [
    "from electrodes_positions.utils.point_picking import pick_fiducials\n",
    "\n",
    "# pick fiducials using a GUI\n",
    "picked_points = pick_fiducials(vertices, faces)"
   ]
  },
  {
   "cell_type": "code",
   "execution_count": 3,
   "metadata": {},
   "outputs": [],
   "source": [
    "from electrodes_positions.utils.point_picking import project_fid_on_mesh\n",
    "\n",
    "# project the fiducials on the mesh vertices\n",
    "(RPA, LPA, NAS, IN), (RPA_idx, LPA_idx, NAS_idx, IN_idx) = project_fid_on_mesh(picked_points, vertices, return_positions = True, return_indices=True)"
   ]
  },
  {
   "cell_type": "markdown",
   "metadata": {},
   "source": [
    "## selects the three regions on which electrodes should not be placed\n",
    "with this utils you can select closed paths on the head from which to remove missplaced electrodes (i.e. the ears and the eyes)"
   ]
  },
  {
   "cell_type": "code",
   "execution_count": 4,
   "metadata": {},
   "outputs": [],
   "source": [
    "from electrodes_positions.utils.point_picking import pick_closed_path, select_feasible_positions"
   ]
  },
  {
   "cell_type": "code",
   "execution_count": 5,
   "metadata": {},
   "outputs": [
    {
     "data": {
      "application/vnd.jupyter.widget-view+json": {
       "model_id": "8105a1949d574153a8339a7093ef5023",
       "version_major": 2,
       "version_minor": 0
      },
      "text/plain": [
       "Widget(value='<iframe src=\"http://localhost:39525/index.html?ui=P_0x7f4df943cad0_0&reconnect=auto\" class=\"pyvi…"
      ]
     },
     "metadata": {},
     "output_type": "display_data"
    }
   ],
   "source": [
    "picked_points, paths = pick_closed_path(vertices, faces)"
   ]
  },
  {
   "cell_type": "code",
   "execution_count": 6,
   "metadata": {},
   "outputs": [
    {
     "data": {
      "application/vnd.jupyter.widget-view+json": {
       "model_id": "44125d34039f4f80aabd76add8f76370",
       "version_major": 2,
       "version_minor": 0
      },
      "text/plain": [
       "Widget(value='<iframe src=\"http://localhost:39525/index.html?ui=P_0x7f4df069f7d0_0&reconnect=auto\" class=\"pyvi…"
      ]
     },
     "metadata": {},
     "output_type": "display_data"
    }
   ],
   "source": [
    "right_ear = picked_points\n",
    "picked_points, paths = pick_closed_path(vertices, faces)"
   ]
  },
  {
   "cell_type": "code",
   "execution_count": 7,
   "metadata": {},
   "outputs": [
    {
     "data": {
      "application/vnd.jupyter.widget-view+json": {
       "model_id": "60ab8741a9f84800807caee023965110",
       "version_major": 2,
       "version_minor": 0
      },
      "text/plain": [
       "Widget(value='<iframe src=\"http://localhost:39525/index.html?ui=P_0x7f4de420cf50_0&reconnect=auto\" class=\"pyvi…"
      ]
     },
     "metadata": {},
     "output_type": "display_data"
    }
   ],
   "source": [
    "left_ear = picked_points\n",
    "picked_points, paths = pick_closed_path(vertices, faces)"
   ]
  },
  {
   "cell_type": "code",
   "execution_count": 8,
   "metadata": {},
   "outputs": [],
   "source": [
    "eyes = picked_points"
   ]
  },
  {
   "cell_type": "code",
   "execution_count": 9,
   "metadata": {},
   "outputs": [],
   "source": [
    "right_ear = vertices[right_ear]\n",
    "left_ear = vertices[left_ear]\n",
    "eyes = vertices[eyes]"
   ]
  },
  {
   "cell_type": "markdown",
   "metadata": {},
   "source": [
    "# Montage builders"
   ]
  },
  {
   "cell_type": "markdown",
   "metadata": {},
   "source": [
    "## Standard Montages"
   ]
  },
  {
   "cell_type": "markdown",
   "metadata": {},
   "source": [
    "### 10-10"
   ]
  },
  {
   "cell_type": "code",
   "execution_count": 10,
   "metadata": {},
   "outputs": [],
   "source": [
    "# creates a standard montage according to the desired system\n",
    "# see available montages with print(electrodes_positions.montages.available_montages)\n",
    "from electrodes_positions.montages import create_standard_montage\n",
    "\n",
    "newverts, newfac, all_landmarks = create_standard_montage(vertices, faces, fiducials = (RPA_idx, LPA_idx, NAS_idx, IN_idx), system = '10-10', return_indices = True)"
   ]
  },
  {
   "cell_type": "code",
   "execution_count": 11,
   "metadata": {},
   "outputs": [
    {
     "name": "stderr",
     "output_type": "stream",
     "text": [
      "100%|██████████| 87/87 [00:00<00:00, 165.80it/s]\n"
     ]
    }
   ],
   "source": [
    "selected_landmarks = select_feasible_positions(newverts, newfac, outlines = [right_ear, left_ear, eyes], landmarks = all_landmarks, positions = None, project_outlines = True)"
   ]
  },
  {
   "cell_type": "code",
   "execution_count": 12,
   "metadata": {},
   "outputs": [
    {
     "data": {
      "application/vnd.jupyter.widget-view+json": {
       "model_id": "f2c03f0f06b24406a990f89ac62e1a4e",
       "version_major": 2,
       "version_minor": 0
      },
      "text/plain": [
       "Widget(value='<iframe src=\"http://localhost:39525/index.html?ui=P_0x7f4d477f3410_0&reconnect=auto\" class=\"pyvi…"
      ]
     },
     "metadata": {},
     "output_type": "display_data"
    }
   ],
   "source": [
    "mesh = pv.PolyData(newverts, faces_to_pyvista(newfac))\n",
    "\n",
    "plotter = pv.Plotter()\n",
    "plotter.add_mesh(mesh, color='red')\n",
    "plotter.add_point_labels(newverts[np.array(list(selected_landmarks.values()))], list(selected_landmarks.keys()), render_points_as_spheres = True, point_size = 10, point_color = 'yellow')\n",
    "plotter.add_point_labels([RPA, LPA, NAS, IN], ['RPA', 'LPA', 'NAS', 'IN'], render_points_as_spheres = True, point_size = 20, point_color = 'green')\n",
    "plotter.show()"
   ]
  },
  {
   "cell_type": "markdown",
   "metadata": {},
   "source": [
    "### 10-5"
   ]
  },
  {
   "cell_type": "code",
   "execution_count": 13,
   "metadata": {},
   "outputs": [],
   "source": [
    "# creates a standard montage according to the desired system\n",
    "# see available montages with print(electrodes_positions.montages.available_montages)\n",
    "from electrodes_positions.montages import create_standard_montage\n",
    "\n",
    "newverts, newfac, all_landmarks = create_standard_montage(vertices, faces, fiducials = (RPA_idx, LPA_idx, NAS_idx, IN_idx), system = '10-5-full', return_indices = True)"
   ]
  },
  {
   "cell_type": "code",
   "execution_count": 14,
   "metadata": {},
   "outputs": [
    {
     "name": "stderr",
     "output_type": "stream",
     "text": [
      "100%|██████████| 345/345 [00:01<00:00, 231.53it/s]\n"
     ]
    }
   ],
   "source": [
    "selected_landmarks = select_feasible_positions(newverts, newfac, outlines = [right_ear, left_ear, eyes], landmarks = all_landmarks, positions = None, project_outlines = True)"
   ]
  },
  {
   "cell_type": "code",
   "execution_count": 15,
   "metadata": {},
   "outputs": [
    {
     "data": {
      "application/vnd.jupyter.widget-view+json": {
       "model_id": "581d07ca7a2b423f8197b2097e1768a7",
       "version_major": 2,
       "version_minor": 0
      },
      "text/plain": [
       "Widget(value='<iframe src=\"http://localhost:39525/index.html?ui=P_0x7f4d47656c60_1&reconnect=auto\" class=\"pyvi…"
      ]
     },
     "metadata": {},
     "output_type": "display_data"
    }
   ],
   "source": [
    "mesh = pv.PolyData(newverts, faces_to_pyvista(newfac))\n",
    "\n",
    "plotter = pv.Plotter()\n",
    "plotter.add_mesh(mesh, color='red')\n",
    "plotter.add_point_labels(newverts[np.array(list(selected_landmarks.values()))], list(selected_landmarks.keys()), render_points_as_spheres = True, point_size = 10, point_color = 'yellow')\n",
    "plotter.add_point_labels([RPA, LPA, NAS, IN], ['RPA', 'LPA', 'NAS', 'IN'], render_points_as_spheres = True, point_size = 20, point_color = 'green')\n",
    "plotter.show()"
   ]
  },
  {
   "cell_type": "markdown",
   "metadata": {},
   "source": [
    "## Custom montage\n",
    "A custom montage is defined as a further subdivision of the 10-10 system, in particular:\n",
    "* subdivisions = 1 coincides with the 10-10 system\n",
    "* subdivisions = 2 coincides with the 10-5 system\n",
    "* subdivisions = 3 would be the 10-3.3 system\n",
    "* subdivisions = 4 would be the 10-2.5 system"
   ]
  },
  {
   "cell_type": "markdown",
   "metadata": {},
   "source": [
    "### 4 subdivisions, 10-2.5 system"
   ]
  },
  {
   "cell_type": "code",
   "execution_count": 16,
   "metadata": {},
   "outputs": [],
   "source": [
    "# creates a custom montage according to the desired subdivisions\n",
    "from electrodes_positions.montages import create_custom_montage\n",
    "\n",
    "newverts, newfac, all_pos, all_landmarks = create_custom_montage(vertices, faces, fiducials = (RPA_idx, LPA_idx, NAS_idx, IN_idx), subdivisions = 4, return_indices = True)"
   ]
  },
  {
   "cell_type": "code",
   "execution_count": 17,
   "metadata": {},
   "outputs": [
    {
     "name": "stderr",
     "output_type": "stream",
     "text": [
      "100%|██████████| 1265/1265 [00:06<00:00, 202.50it/s]\n"
     ]
    }
   ],
   "source": [
    "selected_pos = select_feasible_positions(newverts, newfac, outlines = [right_ear, left_ear, eyes], landmarks = all_landmarks, positions = all_pos, project_outlines = True)"
   ]
  },
  {
   "cell_type": "code",
   "execution_count": 18,
   "metadata": {},
   "outputs": [
    {
     "data": {
      "application/vnd.jupyter.widget-view+json": {
       "model_id": "49125693851e4f1292a28c91566c188c",
       "version_major": 2,
       "version_minor": 0
      },
      "text/plain": [
       "Widget(value='<iframe src=\"http://localhost:39525/index.html?ui=P_0x7f4df0681ac0_2&reconnect=auto\" class=\"pyvi…"
      ]
     },
     "metadata": {},
     "output_type": "display_data"
    }
   ],
   "source": [
    "mesh = pv.PolyData(newverts, faces_to_pyvista(newfac))\n",
    "\n",
    "plotter = pv.Plotter()\n",
    "plotter.add_mesh(mesh, color='red')\n",
    "plotter.add_points(newverts[selected_pos], render_points_as_spheres = True, point_size = 10, color = 'yellow')\n",
    "plotter.add_point_labels([RPA, LPA, NAS, IN], ['RPA', 'LPA', 'NAS', 'IN'], render_points_as_spheres = True, point_size = 20, point_color = 'green')\n",
    "plotter.show()"
   ]
  },
  {
   "cell_type": "markdown",
   "metadata": {},
   "source": [
    "### 8 subdivisions, 10-1.25 system"
   ]
  },
  {
   "cell_type": "code",
   "execution_count": 19,
   "metadata": {},
   "outputs": [],
   "source": [
    "# creates a custom montage according to the desired subdivisions\n",
    "from electrodes_positions.montages import create_custom_montage\n",
    "\n",
    "newverts, newfac, all_pos, all_landmarks = create_custom_montage(vertices, faces, fiducials = (RPA_idx, LPA_idx, NAS_idx, IN_idx), subdivisions = 8, return_indices = True)"
   ]
  },
  {
   "cell_type": "code",
   "execution_count": 20,
   "metadata": {},
   "outputs": [
    {
     "name": "stderr",
     "output_type": "stream",
     "text": [
      "100%|██████████| 4961/4961 [00:20<00:00, 244.73it/s]\n"
     ]
    }
   ],
   "source": [
    "selected_pos = select_feasible_positions(newverts, newfac, outlines = [right_ear, left_ear, eyes], landmarks = all_landmarks, positions = all_pos, project_outlines = True)"
   ]
  },
  {
   "cell_type": "code",
   "execution_count": 21,
   "metadata": {},
   "outputs": [
    {
     "data": {
      "application/vnd.jupyter.widget-view+json": {
       "model_id": "7c5bbffe701147abbcbe3dd996f62817",
       "version_major": 2,
       "version_minor": 0
      },
      "text/plain": [
       "Widget(value='<iframe src=\"http://localhost:39525/index.html?ui=P_0x7f4d845d9550_3&reconnect=auto\" class=\"pyvi…"
      ]
     },
     "metadata": {},
     "output_type": "display_data"
    }
   ],
   "source": [
    "mesh = pv.PolyData(newverts, faces_to_pyvista(newfac))\n",
    "\n",
    "plotter = pv.Plotter()\n",
    "plotter.add_mesh(mesh, color='red')\n",
    "plotter.add_points(newverts[selected_pos], render_points_as_spheres = True, point_size = 10, color = 'yellow')\n",
    "plotter.add_point_labels([RPA, LPA, NAS, IN], ['RPA', 'LPA', 'NAS', 'IN'], render_points_as_spheres = True, point_size = 20, point_color = 'green')\n",
    "plotter.show()"
   ]
  },
  {
   "cell_type": "markdown",
   "metadata": {},
   "source": [
    "### 16 subdivisions, 10-0.625 system"
   ]
  },
  {
   "cell_type": "code",
   "execution_count": 22,
   "metadata": {},
   "outputs": [],
   "source": [
    "# creates a custom montage according to the desired subdivisions\n",
    "from electrodes_positions.montages import create_custom_montage\n",
    "\n",
    "newverts, newfac, all_pos, all_landmarks = create_custom_montage(vertices, faces, fiducials = (RPA_idx, LPA_idx, NAS_idx, IN_idx), subdivisions = 16, return_indices = True)"
   ]
  },
  {
   "cell_type": "code",
   "execution_count": 23,
   "metadata": {},
   "outputs": [
    {
     "name": "stderr",
     "output_type": "stream",
     "text": [
      "100%|██████████| 19649/19649 [03:02<00:00, 107.53it/s]\n"
     ]
    }
   ],
   "source": [
    "selected_pos = select_feasible_positions(newverts, newfac, outlines = [right_ear, left_ear, eyes], landmarks = all_landmarks, positions = all_pos, project_outlines = True)"
   ]
  },
  {
   "cell_type": "code",
   "execution_count": 24,
   "metadata": {},
   "outputs": [
    {
     "data": {
      "application/vnd.jupyter.widget-view+json": {
       "model_id": "932721c13e5740db8cdaf90dfba26045",
       "version_major": 2,
       "version_minor": 0
      },
      "text/plain": [
       "Widget(value='<iframe src=\"http://localhost:39525/index.html?ui=P_0x7f4d47624080_4&reconnect=auto\" class=\"pyvi…"
      ]
     },
     "metadata": {},
     "output_type": "display_data"
    }
   ],
   "source": [
    "mesh = pv.PolyData(newverts, faces_to_pyvista(newfac))\n",
    "\n",
    "plotter = pv.Plotter()\n",
    "plotter.add_mesh(mesh, color='red')\n",
    "plotter.add_points(newverts[selected_pos], render_points_as_spheres = True, point_size = 10, color = 'yellow')\n",
    "plotter.add_point_labels([RPA, LPA, NAS, IN], ['RPA', 'LPA', 'NAS', 'IN'], render_points_as_spheres = True, point_size = 20, point_color = 'green')\n",
    "plotter.show()"
   ]
  },
  {
   "cell_type": "markdown",
   "metadata": {},
   "source": [
    "## Random montage\n",
    "A random montage is a collection of electrodes positions sampled randomly above the last line of electrodes as defined in the 10-10 system. There are two possible sampling strategies:\n",
    "* Poisson sampling: where positions are sampled to be not too close to each other\n",
    "* Uniform sampling: where positions are sampled uniformly across the entire surface"
   ]
  },
  {
   "cell_type": "markdown",
   "metadata": {},
   "source": [
    "### Poisson sampling: 1000 electrodes\n",
    "Poisson sampling is performed by specifying the minimum distance between all the electrodes. When a number of electrodes is chosen, an estimate is made on the minimum distance required to cover the head with the specified number of positions."
   ]
  },
  {
   "cell_type": "code",
   "execution_count": 25,
   "metadata": {},
   "outputs": [
    {
     "name": "stdout",
     "output_type": "stream",
     "text": [
      "Performing Sampling on the mesh...\n"
     ]
    },
    {
     "name": "stderr",
     "output_type": "stream",
     "text": [
      "Iteration 1124: : 1123it [00:54, 20.56it/s]                           \n"
     ]
    },
    {
     "name": "stdout",
     "output_type": "stream",
     "text": [
      "Projecting sampled points on original mesh...\n"
     ]
    }
   ],
   "source": [
    "# creates a random montage according to the desired number of electrodes or minimal distance\n",
    "from electrodes_positions.montages import create_random_montage\n",
    "\n",
    "newverts, newfac, all_pos, all_landmarks = create_random_montage(vertices, faces, fiducials = (RPA_idx, LPA_idx, NAS_idx, IN_idx), num_electrodes = 1000, return_indices = True)"
   ]
  },
  {
   "cell_type": "code",
   "execution_count": 26,
   "metadata": {},
   "outputs": [
    {
     "name": "stderr",
     "output_type": "stream",
     "text": [
      "100%|██████████| 1124/1124 [00:05<00:00, 202.18it/s]\n"
     ]
    }
   ],
   "source": [
    "selected_pos = select_feasible_positions(newverts, newfac, outlines = [right_ear, left_ear, eyes], landmarks = all_landmarks, positions = all_pos, project_outlines = True)"
   ]
  },
  {
   "cell_type": "code",
   "execution_count": 27,
   "metadata": {},
   "outputs": [
    {
     "data": {
      "application/vnd.jupyter.widget-view+json": {
       "model_id": "815d1eeb69bd452e998b2e38ee7465f2",
       "version_major": 2,
       "version_minor": 0
      },
      "text/plain": [
       "Widget(value='<iframe src=\"http://localhost:39525/index.html?ui=P_0x7f4d46274080_5&reconnect=auto\" class=\"pyvi…"
      ]
     },
     "metadata": {},
     "output_type": "display_data"
    }
   ],
   "source": [
    "mesh = pv.PolyData(newverts, faces_to_pyvista(newfac))\n",
    "\n",
    "plotter = pv.Plotter()\n",
    "plotter.add_mesh(mesh, color='red')\n",
    "plotter.add_points(newverts[selected_pos], render_points_as_spheres = True, point_size = 10, color = 'yellow')\n",
    "plotter.add_point_labels([RPA, LPA, NAS, IN], ['RPA', 'LPA', 'NAS', 'IN'], render_points_as_spheres = True, point_size = 20, point_color = 'green')\n",
    "plotter.show()"
   ]
  },
  {
   "cell_type": "markdown",
   "metadata": {},
   "source": [
    "### Uniform sampling: 1000 electrodes\n",
    "Uniform sampling is uniform wrt mesh area"
   ]
  },
  {
   "cell_type": "code",
   "execution_count": 28,
   "metadata": {},
   "outputs": [
    {
     "name": "stdout",
     "output_type": "stream",
     "text": [
      "Performing Sampling on the mesh...\n",
      "Projecting sampled points on original mesh...\n"
     ]
    }
   ],
   "source": [
    "# creates a random montage according to the desired number of electrodes or minimal distance\n",
    "from electrodes_positions.montages import create_random_montage\n",
    "\n",
    "newverts, newfac, all_pos, all_landmarks = create_random_montage(vertices, faces, fiducials = (RPA_idx, LPA_idx, NAS_idx, IN_idx), sampling = 'uniform', num_electrodes = 1000, return_indices = True)"
   ]
  },
  {
   "cell_type": "code",
   "execution_count": 29,
   "metadata": {},
   "outputs": [
    {
     "name": "stderr",
     "output_type": "stream",
     "text": [
      "100%|██████████| 1000/1000 [00:03<00:00, 297.86it/s]\n"
     ]
    }
   ],
   "source": [
    "selected_pos = select_feasible_positions(newverts, newfac, outlines = [right_ear, left_ear, eyes], landmarks = all_landmarks, positions = all_pos, project_outlines = True)"
   ]
  },
  {
   "cell_type": "code",
   "execution_count": 30,
   "metadata": {},
   "outputs": [
    {
     "data": {
      "application/vnd.jupyter.widget-view+json": {
       "model_id": "574ef0015eb141509d3bad37447e7795",
       "version_major": 2,
       "version_minor": 0
      },
      "text/plain": [
       "Widget(value='<iframe src=\"http://localhost:39525/index.html?ui=P_0x7f4de449ca70_6&reconnect=auto\" class=\"pyvi…"
      ]
     },
     "metadata": {},
     "output_type": "display_data"
    }
   ],
   "source": [
    "mesh = pv.PolyData(newverts, faces_to_pyvista(newfac))\n",
    "\n",
    "plotter = pv.Plotter()\n",
    "plotter.add_mesh(mesh, color='red')\n",
    "plotter.add_points(newverts[selected_pos], render_points_as_spheres = True, point_size = 10, color = 'yellow')\n",
    "plotter.add_point_labels([RPA, LPA, NAS, IN], ['RPA', 'LPA', 'NAS', 'IN'], render_points_as_spheres = True, point_size = 20, point_color = 'green')\n",
    "plotter.show()"
   ]
  }
 ],
 "metadata": {
  "kernelspec": {
   "display_name": "mne",
   "language": "python",
   "name": "python3"
  },
  "language_info": {
   "codemirror_mode": {
    "name": "ipython",
    "version": 3
   },
   "file_extension": ".py",
   "mimetype": "text/x-python",
   "name": "python",
   "nbconvert_exporter": "python",
   "pygments_lexer": "ipython3",
   "version": "3.12.8"
  }
 },
 "nbformat": 4,
 "nbformat_minor": 2
}
